{
 "cells": [
  {
   "cell_type": "code",
   "execution_count": 15,
   "id": "cc1ef739-a429-4264-8cb0-ba657e982971",
   "metadata": {},
   "outputs": [],
   "source": [
    "from FogifySDK import FogifySDK\n"
   ]
  },
  {
   "cell_type": "code",
   "execution_count": 16,
   "id": "87fcac4c-65bd-4cbb-a04d-bb7422975498",
   "metadata": {},
   "outputs": [],
   "source": [
    "fogify = FogifySDK(\"http://controller:5000\",\"docker-compose-bash-services.yaml\")"
   ]
  },
  {
   "cell_type": "code",
   "execution_count": null,
   "id": "43df8d9e-c1a5-45ad-b48c-ca43bc204d4a",
   "metadata": {},
   "outputs": [
    {
     "name": "stderr",
     "output_type": "stream",
     "text": [
      "\n",
      "\n",
      "Undeploy process:   0%|          | 0/15 [00:00<?, ?it/s]\u001b[A\u001b[A"
     ]
    }
   ],
   "source": [
    "fogify.undeploy()"
   ]
  },
  {
   "cell_type": "code",
   "execution_count": null,
   "id": "793105fa-cfe2-463d-80de-ca8671b48f8d",
   "metadata": {},
   "outputs": [],
   "source": []
  },
  {
   "cell_type": "code",
   "execution_count": 14,
   "id": "caffb1dc-1005-46b8-b9db-0f1c6c03fe2c",
   "metadata": {},
   "outputs": [
    {
     "name": "stderr",
     "output_type": "stream",
     "text": [
      "\n",
      "Deploy process:   0%|          | 0/3 [00:00<?, ?it/s]\u001b[A"
     ]
    },
    {
     "ename": "ExceptionFogifySDK",
     "evalue": "The deployment is failed ({'message': 'The deployment is failed. Please check the logs of the Fogify Controller.'})",
     "output_type": "error",
     "traceback": [
      "\u001b[0;31m---------------------------------------------------------------------------\u001b[0m",
      "\u001b[0;31mExceptionFogifySDK\u001b[0m                        Traceback (most recent call last)",
      "\u001b[0;32m<ipython-input-14-db6c66cbbc41>\u001b[0m in \u001b[0;36m<module>\u001b[0;34m\u001b[0m\n\u001b[0;32m----> 1\u001b[0;31m \u001b[0mfogify\u001b[0m\u001b[0;34m.\u001b[0m\u001b[0mdeploy\u001b[0m\u001b[0;34m(\u001b[0m\u001b[0;34m)\u001b[0m\u001b[0;34m\u001b[0m\u001b[0;34m\u001b[0m\u001b[0m\n\u001b[0m",
      "\u001b[0;32m/opt/conda/lib/python3.9/site-packages/FogifySDK/FogifySDK.py\u001b[0m in \u001b[0;36mdeploy\u001b[0;34m(self, timeout)\u001b[0m\n\u001b[1;32m    112\u001b[0m             \u001b[0mresponse\u001b[0m \u001b[0;34m=\u001b[0m \u001b[0mrequests\u001b[0m\u001b[0;34m.\u001b[0m\u001b[0mget\u001b[0m\u001b[0;34m(\u001b[0m\u001b[0murl\u001b[0m\u001b[0;34m,\u001b[0m \u001b[0mheaders\u001b[0m\u001b[0;34m=\u001b[0m\u001b[0;34m{\u001b[0m\u001b[0;34m}\u001b[0m\u001b[0;34m)\u001b[0m\u001b[0;34m\u001b[0m\u001b[0;34m\u001b[0m\u001b[0m\n\u001b[1;32m    113\u001b[0m             \u001b[0;32mif\u001b[0m \u001b[0mresponse\u001b[0m\u001b[0;34m.\u001b[0m\u001b[0mstatus_code\u001b[0m \u001b[0;34m!=\u001b[0m \u001b[0;36m200\u001b[0m\u001b[0;34m:\u001b[0m\u001b[0;34m\u001b[0m\u001b[0;34m\u001b[0m\u001b[0m\n\u001b[0;32m--> 114\u001b[0;31m                 \u001b[0;32mraise\u001b[0m \u001b[0mExceptionFogifySDK\u001b[0m\u001b[0;34m(\u001b[0m\u001b[0;34m\"The deployment is failed (%s)\"\u001b[0m \u001b[0;34m%\u001b[0m \u001b[0mstr\u001b[0m\u001b[0;34m(\u001b[0m\u001b[0mresponse\u001b[0m\u001b[0;34m.\u001b[0m\u001b[0mjson\u001b[0m\u001b[0;34m(\u001b[0m\u001b[0;34m)\u001b[0m\u001b[0;34m)\u001b[0m\u001b[0;34m)\u001b[0m\u001b[0;34m\u001b[0m\u001b[0;34m\u001b[0m\u001b[0m\n\u001b[0m\u001b[1;32m    115\u001b[0m             \u001b[0mresponse\u001b[0m \u001b[0;34m=\u001b[0m \u001b[0mresponse\u001b[0m\u001b[0;34m.\u001b[0m\u001b[0mjson\u001b[0m\u001b[0;34m(\u001b[0m\u001b[0;34m)\u001b[0m\u001b[0;34m\u001b[0m\u001b[0;34m\u001b[0m\u001b[0m\n\u001b[1;32m    116\u001b[0m             \u001b[0mnew_count\u001b[0m \u001b[0;34m=\u001b[0m \u001b[0;36m0\u001b[0m\u001b[0;34m\u001b[0m\u001b[0;34m\u001b[0m\u001b[0m\n",
      "\u001b[0;31mExceptionFogifySDK\u001b[0m: The deployment is failed ({'message': 'The deployment is failed. Please check the logs of the Fogify Controller.'})"
     ]
    }
   ],
   "source": [
    "fogify.deploy()"
   ]
  },
  {
   "cell_type": "code",
   "execution_count": 5,
   "id": "2afbad6b-add3-4c7e-a454-2723aa041373",
   "metadata": {},
   "outputs": [
    {
     "name": "stderr",
     "output_type": "stream",
     "text": [
      "Undeploy process: 100%|██████████| 15/15 [00:05<00:00,  2.98it/s]\n"
     ]
    },
    {
     "data": {
      "text/plain": [
       "{'message': 'The 15 services are undeployed'}"
      ]
     },
     "execution_count": 5,
     "metadata": {},
     "output_type": "execute_result"
    }
   ],
   "source": [
    "fogify.undeploy()"
   ]
  },
  {
   "cell_type": "code",
   "execution_count": null,
   "id": "d831cc7f-fbe3-4092-b49c-d12430bebf7e",
   "metadata": {},
   "outputs": [],
   "source": []
  }
 ],
 "metadata": {
  "kernelspec": {
   "display_name": "Python 3",
   "language": "python",
   "name": "python3"
  },
  "language_info": {
   "codemirror_mode": {
    "name": "ipython",
    "version": 3
   },
   "file_extension": ".py",
   "mimetype": "text/x-python",
   "name": "python",
   "nbconvert_exporter": "python",
   "pygments_lexer": "ipython3",
   "version": "3.9.2"
  }
 },
 "nbformat": 4,
 "nbformat_minor": 5
}
